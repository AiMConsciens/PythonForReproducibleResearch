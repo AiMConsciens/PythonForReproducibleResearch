{
 "cells": [
  {
   "cell_type": "markdown",
   "metadata": {},
   "source": [
    "## zip\n",
    "zip take two or more sequences and produces a sequence of tuple.\n",
    "It is useful when we have sequence of tuple as parameter to function \n"
   ]
  },
  {
   "cell_type": "code",
   "execution_count": 1,
   "metadata": {
    "collapsed": false
   },
   "outputs": [],
   "source": [
    "# Suppose we have following function\n",
    "\n",
    "def applyFilter(fltParam):\n",
    "    for nBand, nSize in fltParam:\n",
    "        # Do some thing but I am printing\n",
    "        print('nBand =  {} nSize = {}'.format(nBand, nSize))"
   ]
  },
  {
   "cell_type": "code",
   "execution_count": 2,
   "metadata": {
    "collapsed": false
   },
   "outputs": [
    {
     "name": "stdout",
     "output_type": "stream",
     "text": [
      "[8, 16, 20, 22, 25]\n",
      "nBand =  8 nSize = 16\n",
      "nBand =  16 nSize = 24\n",
      "nBand =  20 nSize = 32\n",
      "nBand =  22 nSize = 40\n",
      "nBand =  25 nSize = 48\n"
     ]
    }
   ],
   "source": [
    "# zip can help use in building sequence of 2 tuple \n",
    "nBand = [8 ,16, 20 ,22 ,25]\n",
    "print nBand\n",
    "nSize = xrange(16, 16*5, 8)\n",
    "param = zip(nBand, nSize)\n",
    "applyFilter(param)"
   ]
  },
  {
   "cell_type": "code",
   "execution_count": 3,
   "metadata": {
    "collapsed": false
   },
   "outputs": [
    {
     "name": "stdout",
     "output_type": "stream",
     "text": [
      "[(8, 16), (16, 24), (20, 32), (22, 40), (25, 48)]\n"
     ]
    }
   ],
   "source": [
    "combinedList = list(param)\n",
    "print combinedList"
   ]
  },
  {
   "cell_type": "markdown",
   "metadata": {},
   "source": [
    "We can use parameter unpacking and zip command again to unzip the sequence"
   ]
  },
  {
   "cell_type": "code",
   "execution_count": 4,
   "metadata": {
    "collapsed": false
   },
   "outputs": [
    {
     "name": "stdout",
     "output_type": "stream",
     "text": [
      "[(8, 16, 20, 22, 25), (16, 24, 32, 40, 48)]\n"
     ]
    }
   ],
   "source": [
    "seperateList = zip(*combinedList)\n",
    "print seperateList"
   ]
  },
  {
   "cell_type": "markdown",
   "metadata": {},
   "source": [
    "## lambda\n",
    "Anonymous functions can be created with lambda key word"
   ]
  },
  {
   "cell_type": "code",
   "execution_count": 17,
   "metadata": {
    "collapsed": false
   },
   "outputs": [
    {
     "name": "stdout",
     "output_type": "stream",
     "text": [
      "200\n"
     ]
    }
   ],
   "source": [
    "f = lambda x,y: x*y\n",
    "print f(10,20)"
   ]
  },
  {
   "cell_type": "code",
   "execution_count": 21,
   "metadata": {
    "collapsed": false
   },
   "outputs": [
    {
     "name": "stdout",
     "output_type": "stream",
     "text": [
      "[(10, 'Clarak'), (20, 'John'), (50, 'Ella')]\n"
     ]
    }
   ],
   "source": [
    "ageNameList = [(20, 'John'), (10, 'Clarak'), (50, 'Ella')]\n",
    "ageNameList.sort()\n",
    "print ageNameList\n"
   ]
  },
  {
   "cell_type": "markdown",
   "metadata": {},
   "source": [
    "**excercise1: sort the list via second value in tuple**"
   ]
  },
  {
   "cell_type": "code",
   "execution_count": 24,
   "metadata": {
    "collapsed": false
   },
   "outputs": [],
   "source": []
  },
  {
   "cell_type": "markdown",
   "metadata": {},
   "source": [
    "## map\n",
    "It apply a given function every item in the sequence"
   ]
  },
  {
   "cell_type": "code",
   "execution_count": 30,
   "metadata": {
    "collapsed": false
   },
   "outputs": [
    {
     "name": "stdout",
     "output_type": "stream",
     "text": [
      "[15, 19, 23]\n"
     ]
    }
   ],
   "source": [
    "x = [5, 7, 9]\n",
    "y = map(lambda a:2*a + 5, x)\n",
    "print y"
   ]
  },
  {
   "cell_type": "code",
   "execution_count": 32,
   "metadata": {
    "collapsed": false
   },
   "outputs": [
    {
     "name": "stdout",
     "output_type": "stream",
     "text": [
      "[20, 26, 32]\n"
     ]
    }
   ],
   "source": [
    "z = map(lambda a,b : a + b, x , y)\n",
    "print z"
   ]
  },
  {
   "cell_type": "markdown",
   "metadata": {},
   "source": [
    "## filter\n",
    "It provides a way to selected some element from a sequence based on some criteria"
   ]
  },
  {
   "cell_type": "code",
   "execution_count": 36,
   "metadata": {
    "collapsed": false
   },
   "outputs": [
    {
     "name": "stdout",
     "output_type": "stream",
     "text": [
      "[1, 2, 3, 4, 5, 6, 7, 8, 9, 10, 11, 12, 13, 14, 15, 16, 17, 18, 19]\n"
     ]
    }
   ],
   "source": [
    "x = range(1,20)\n",
    "print x"
   ]
  },
  {
   "cell_type": "markdown",
   "metadata": {},
   "source": [
    "selecting only multiple of 3 from x"
   ]
  },
  {
   "cell_type": "code",
   "execution_count": 38,
   "metadata": {
    "collapsed": false
   },
   "outputs": [
    {
     "name": "stdout",
     "output_type": "stream",
     "text": [
      "[3, 6, 9, 12, 15, 18]\n"
     ]
    }
   ],
   "source": [
    "multiOf3 = filter(lambda x:x%3 == 0, x)\n",
    "print multiOf3"
   ]
  },
  {
   "cell_type": "markdown",
   "metadata": {},
   "source": [
    "filter can be useful for selecting particular type of files from system.\n",
    "First how to read list of files from a directory?"
   ]
  },
  {
   "cell_type": "code",
   "execution_count": 46,
   "metadata": {
    "collapsed": false
   },
   "outputs": [
    {
     "name": "stdout",
     "output_type": "stream",
     "text": [
      "['c.tif', 'a.tif', 'Font', 'b.png', 'd.jpg']\n"
     ]
    }
   ],
   "source": [
    "from os import listdir\n",
    "dirName = './SampleFiles/'\n",
    "files = listdir(dirName)\n",
    "print files"
   ]
  },
  {
   "cell_type": "markdown",
   "metadata": {},
   "source": [
    "How to check if something is file or not?\n"
   ]
  },
  {
   "cell_type": "code",
   "execution_count": 50,
   "metadata": {
    "collapsed": false
   },
   "outputs": [
    {
     "name": "stdout",
     "output_type": "stream",
     "text": [
      "True\n",
      "False\n"
     ]
    }
   ],
   "source": [
    "from os.path import isfile, join\n",
    "print isfile(join(dirName, files[1]))\n",
    "print isfile(join(dirName, files[2]))"
   ]
  },
  {
   "cell_type": "markdown",
   "metadata": {},
   "source": [
    "how to check if filename end in an extension\n"
   ]
  },
  {
   "cell_type": "code",
   "execution_count": 56,
   "metadata": {
    "collapsed": false
   },
   "outputs": [
    {
     "name": "stdout",
     "output_type": "stream",
     "text": [
      "False\n"
     ]
    }
   ],
   "source": [
    "testFileName = 'sun.png'\n",
    "print testFileName.endswith('.tif')"
   ]
  },
  {
   "cell_type": "code",
   "execution_count": 64,
   "metadata": {
    "collapsed": false
   },
   "outputs": [
    {
     "name": "stdout",
     "output_type": "stream",
     "text": [
      "['c.tif', 'a.tif']\n"
     ]
    }
   ],
   "source": [
    "## [<some_func>(x) for x in <something> if  <some_condition_is_true>]\n",
    "tifFiles  = [ f for f in listdir(dirName) if isfile(join(dirName, f)) and f.endswith('.tif')]\n",
    "print tifFiles"
   ]
  },
  {
   "cell_type": "markdown",
   "metadata": {},
   "source": [
    "** excercise 2: write a function which reads files from a directory satisfying a condition ?**"
   ]
  },
  {
   "cell_type": "code",
   "execution_count": 64,
   "metadata": {
    "collapsed": false
   },
   "outputs": [],
   "source": [
    "   "
   ]
  },
  {
   "cell_type": "markdown",
   "metadata": {},
   "source": [
    "## reduce\n",
    "reduce applies a function to the consecutive element of sequence iteratively and return a single value"
   ]
  },
  {
   "cell_type": "code",
   "execution_count": 66,
   "metadata": {
    "collapsed": false
   },
   "outputs": [
    {
     "name": "stdout",
     "output_type": "stream",
     "text": [
      "24\n"
     ]
    }
   ],
   "source": [
    "x = [1 ,2 ,3 ,4]\n",
    "prod = reduce(lambda a, b: a*b, x)\n",
    "print prod"
   ]
  },
  {
   "cell_type": "markdown",
   "metadata": {},
   "source": [
    "** excerice 3: using a if a < b else b write a function to find minium in following list list**"
   ]
  },
  {
   "cell_type": "code",
   "execution_count": 71,
   "metadata": {
    "collapsed": false
   },
   "outputs": [],
   "source": [
    "x = [ 8, 11, 3, 78, 2]\n"
   ]
  },
  {
   "cell_type": "markdown",
   "metadata": {},
   "source": [
    "referance http://www.python-course.eu/lambda.php"
   ]
  }
 ],
 "metadata": {
  "kernelspec": {
   "display_name": "Python 2",
   "language": "python",
   "name": "python2"
  },
  "language_info": {
   "codemirror_mode": {
    "name": "ipython",
    "version": 2
   },
   "file_extension": ".py",
   "mimetype": "text/x-python",
   "name": "python",
   "nbconvert_exporter": "python",
   "pygments_lexer": "ipython2",
   "version": "2.7.6"
  }
 },
 "nbformat": 4,
 "nbformat_minor": 0
}
