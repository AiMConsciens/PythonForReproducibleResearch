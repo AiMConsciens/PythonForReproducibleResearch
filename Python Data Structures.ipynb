{
 "cells": [
  {
   "cell_type": "markdown",
   "metadata": {},
   "source": [
    "# Python Data Structure\n",
    " ** list , set, tuple, named tuple, dictionary**"
   ]
  },
  {
   "cell_type": "markdown",
   "metadata": {},
   "source": [
    "## list\n",
    "* We generally use list to store several values for same type of data like list of integers, list of strings etc.\n",
    "* List are useful when we want o modify the content like adding or deleting\n"
   ]
  },
  {
   "cell_type": "markdown",
   "metadata": {},
   "source": [
    "### Creating list"
   ]
  },
  {
   "cell_type": "code",
   "execution_count": 103,
   "metadata": {
    "collapsed": false
   },
   "outputs": [
    {
     "name": "stdout",
     "output_type": "stream",
     "text": [
      "[21, 3, 7, 11]\n"
     ]
    }
   ],
   "source": [
    "xL = [] # empty list\n",
    "yL  = list() # empty list\n",
    "zL= [21, 3, 7 ,11]\n",
    "print zL\n"
   ]
  },
  {
   "cell_type": "markdown",
   "metadata": {},
   "source": [
    "**Via list comphrehension**"
   ]
  },
  {
   "cell_type": "code",
   "execution_count": 114,
   "metadata": {
    "collapsed": false
   },
   "outputs": [
    {
     "name": "stdout",
     "output_type": "stream",
     "text": [
      "[1, 9, 25, 49, 81]\n"
     ]
    }
   ],
   "source": [
    "# [<some_func>(x) for x in <something> if  <some_condition_is_true>]\n",
    "\n",
    "oddSquareL = [x*x for x in xrange(1, 11, 2) if x%5 ==0 ]\n",
    "print compList"
   ]
  },
  {
   "cell_type": "code",
   "execution_count": 40,
   "metadata": {
    "collapsed": true
   },
   "outputs": [],
   "source": [
    "continentsL = ['Europe', 'Africa', 'America', 'Antarctica', 'Asia', 'Australia']"
   ]
  },
  {
   "cell_type": "code",
   "execution_count": 41,
   "metadata": {
    "collapsed": false
   },
   "outputs": [
    {
     "name": "stdout",
     "output_type": "stream",
     "text": [
      "[21, 3, 7, 11, 1, 9, 25, 49, 81]\n",
      "[21, 3, 7, 11, 1, 9, 25, 49, 81, 'Europe', 'Africa', 'America', 'Antarctica', 'Asia', 'Australia']\n"
     ]
    }
   ],
   "source": [
    "compositeL = zL + oddSquareL\n",
    "print compositeL\n",
    "mixedL = compositeL + continentsL\n",
    "print mixedL"
   ]
  },
  {
   "cell_type": "code",
   "execution_count": 91,
   "metadata": {
    "collapsed": false
   },
   "outputs": [
    {
     "name": "stdout",
     "output_type": "stream",
     "text": [
      "[[3, 5, 7, 11, 21, 22], [1, 9, 25, 49, 81]]\n"
     ]
    }
   ],
   "source": [
    "listOfL = [zL, oddSquareL] # list of list\n",
    "print listOfL"
   ]
  },
  {
   "cell_type": "markdown",
   "metadata": {},
   "source": [
    "we can do indexing and slicing in list"
   ]
  },
  {
   "cell_type": "code",
   "execution_count": 96,
   "metadata": {
    "collapsed": false
   },
   "outputs": [
    {
     "name": "stdout",
     "output_type": "stream",
     "text": [
      "[1, 9, 25, 49, 81]\n",
      "25\n",
      "[49, 81]\n",
      "81\n"
     ]
    }
   ],
   "source": [
    "print oddSquareL\n",
    "print oddSquareL[2] # third element\n",
    "print oddSquareL[3:] # all the elements from index 3 to end \n",
    "print oddSquareL[-1]  # negative for indexing from last"
   ]
  },
  {
   "cell_type": "markdown",
   "metadata": {},
   "source": [
    "### Modifying list\n",
    "#### inserting"
   ]
  },
  {
   "cell_type": "code",
   "execution_count": 43,
   "metadata": {
    "collapsed": false
   },
   "outputs": [
    {
     "name": "stdout",
     "output_type": "stream",
     "text": [
      "[21, 3, 7, 11, 22]\n"
     ]
    }
   ],
   "source": [
    "zL.append(22)\n",
    "print zL"
   ]
  },
  {
   "cell_type": "code",
   "execution_count": 44,
   "metadata": {
    "collapsed": false
   },
   "outputs": [
    {
     "name": "stdout",
     "output_type": "stream",
     "text": [
      "[21, 3, 5, 7, 11, 22]\n"
     ]
    }
   ],
   "source": [
    "zL.insert(2, 5)\n",
    "print zL\n"
   ]
  },
  {
   "cell_type": "markdown",
   "metadata": {},
   "source": [
    "#### deleting"
   ]
  },
  {
   "cell_type": "code",
   "execution_count": 98,
   "metadata": {
    "collapsed": false
   },
   "outputs": [
    {
     "name": "stdout",
     "output_type": "stream",
     "text": [
      "[3, 5, 7, 11, 21, 22, 5]\n",
      "[3, 7, 11, 21, 22, 5]\n"
     ]
    }
   ],
   "source": [
    "zL.append(5)\n",
    "print zL\n",
    "zL.remove(5)\n",
    "print zL"
   ]
  },
  {
   "cell_type": "markdown",
   "metadata": {},
   "source": [
    "sorting"
   ]
  },
  {
   "cell_type": "code",
   "execution_count": 46,
   "metadata": {
    "collapsed": false
   },
   "outputs": [
    {
     "name": "stdout",
     "output_type": "stream",
     "text": [
      "[3, 5, 7, 11, 21, 22]\n"
     ]
    }
   ],
   "source": [
    "zL.sort()\n",
    "print zL"
   ]
  },
  {
   "cell_type": "code",
   "execution_count": 47,
   "metadata": {
    "collapsed": false
   },
   "outputs": [
    {
     "name": "stdout",
     "output_type": "stream",
     "text": [
      "['Europe', 'Africa', 'America', 'Antarctica', 'Asia', 'Australia']\n",
      "['Africa', 'America', 'Antarctica', 'Asia', 'Australia', 'Europe']\n"
     ]
    }
   ],
   "source": [
    "print continentsL\n",
    "continentsL.sort()\n",
    "print continentsL"
   ]
  },
  {
   "cell_type": "markdown",
   "metadata": {},
   "source": [
    "what if we want to sort by length?"
   ]
  },
  {
   "cell_type": "code",
   "execution_count": 48,
   "metadata": {
    "collapsed": true
   },
   "outputs": [],
   "source": [
    "continentsL.sort?\n"
   ]
  },
  {
   "cell_type": "code",
   "execution_count": 52,
   "metadata": {
    "collapsed": false
   },
   "outputs": [
    {
     "name": "stdout",
     "output_type": "stream",
     "text": [
      "['Asia', 'Africa', 'Europe', 'America', 'Australia', 'Antarctica']\n"
     ]
    }
   ],
   "source": [
    "continentsL.sort(key=len)\n",
    "print continentsL"
   ]
  },
  {
   "cell_type": "markdown",
   "metadata": {},
   "source": [
    "We can  write our own function to pass as key"
   ]
  },
  {
   "cell_type": "code",
   "execution_count": 55,
   "metadata": {
    "collapsed": true
   },
   "outputs": [],
   "source": [
    "def keyFunc(s1):\n",
    "    return s1[-3:]"
   ]
  },
  {
   "cell_type": "markdown",
   "metadata": {},
   "source": [
    "#### Excercise: sort using last 2 character?"
   ]
  },
  {
   "cell_type": "code",
   "execution_count": null,
   "metadata": {
    "collapsed": false
   },
   "outputs": [],
   "source": []
  },
  {
   "cell_type": "markdown",
   "metadata": {},
   "source": [
    "**Something I am learning overtime **\n",
    " * How to iterate over elements"
   ]
  },
  {
   "cell_type": "code",
   "execution_count": 100,
   "metadata": {
    "collapsed": false
   },
   "outputs": [
    {
     "name": "stdout",
     "output_type": "stream",
     "text": [
      "1\n",
      "9\n",
      "25\n",
      "49\n",
      "81\n"
     ]
    }
   ],
   "source": [
    "for item in oddSquareL:\n",
    "    print item"
   ]
  },
  {
   "cell_type": "markdown",
   "metadata": {},
   "source": [
    "when we want the index of element in the list, use following syntax. It is more pythonic way of doing it."
   ]
  },
  {
   "cell_type": "code",
   "execution_count": 106,
   "metadata": {
    "collapsed": false
   },
   "outputs": [
    {
     "name": "stdout",
     "output_type": "stream",
     "text": [
      "0 1\n",
      "1 9\n",
      "2 25\n",
      "3 49\n",
      "4 81\n"
     ]
    }
   ],
   "source": [
    "for index, item in enumerate(oddSquareL):\n",
    "    print index, item"
   ]
  },
  {
   "cell_type": "markdown",
   "metadata": {},
   "source": [
    "flattening a list of list"
   ]
  },
  {
   "cell_type": "code",
   "execution_count": 108,
   "metadata": {
    "collapsed": false
   },
   "outputs": [
    {
     "name": "stdout",
     "output_type": "stream",
     "text": [
      "[1, 2, 4, 5, 10, 13]\n"
     ]
    }
   ],
   "source": [
    "listOfList = [[1, 2],  [4, 5], [ 10, 13]]\n",
    "#onway to Do it\n",
    "flatList = []\n",
    "for innerList in listOfList:\n",
    "    for item in innerList:\n",
    "        flatList.append(item)\n",
    "print flatList        \n"
   ]
  },
  {
   "cell_type": "code",
   "execution_count": 115,
   "metadata": {
    "collapsed": false
   },
   "outputs": [
    {
     "name": "stdout",
     "output_type": "stream",
     "text": [
      "[1, 2, 4, 5, 10, 13]\n"
     ]
    }
   ],
   "source": [
    "# or we can use list comprehension\n",
    "\n",
    "flatList1 = [ item for innerList in listOfList for item in innerList]\n",
    "print flatList1"
   ]
  },
  {
   "cell_type": "markdown",
   "metadata": {},
   "source": [
    "simulating coin flips"
   ]
  },
  {
   "cell_type": "code",
   "execution_count": 119,
   "metadata": {
    "collapsed": false
   },
   "outputs": [
    {
     "name": "stdout",
     "output_type": "stream",
     "text": [
      "[0, 1, 1, 0, 1, 0, 0, 0, 0, 0]\n"
     ]
    }
   ],
   "source": [
    "from random import random\n",
    "coinToss = [ int(round(random())) for x in xrange(10)]\n",
    "print coinToss"
   ]
  },
  {
   "cell_type": "markdown",
   "metadata": {},
   "source": [
    "# more example at http://howchoo.com/g/ngi2zddjzdf/how-to-use-list-comprehension-in-python\n",
    "\n",
    "More on list comprehension usage example in **Utility** section using os module\n"
   ]
  },
  {
   "cell_type": "markdown",
   "metadata": {},
   "source": [
    "## tuple and named tuple \n",
    "tuple are use to aggregate dfferent piece of data in one container.\n",
    "Tuple are immutable. So we can't modify their content\n",
    "**Creating tuple**"
   ]
  },
  {
   "cell_type": "code",
   "execution_count": 84,
   "metadata": {
    "collapsed": false
   },
   "outputs": [
    {
     "name": "stdout",
     "output_type": "stream",
     "text": [
      "('Milky Way ', '100,000-120,000', 200, 100)\n",
      "number of planet 100\n"
     ]
    }
   ],
   "source": [
    "ourGalaxy = (\"Milky Way \", \"100,000-120,000\", 200, 100) # name, diameter, stars, palnets\n",
    "print ourGalaxy\n",
    "\n"
   ]
  },
  {
   "cell_type": "markdown",
   "metadata": {},
   "source": [
    "tuple are good to pack together values and pass them around function."
   ]
  },
  {
   "cell_type": "code",
   "execution_count": 87,
   "metadata": {
    "collapsed": false
   },
   "outputs": [
    {
     "name": "stdout",
     "output_type": "stream",
     "text": [
      "0.5\n"
     ]
    }
   ],
   "source": [
    "from __future__ import  division\n",
    "def calculatePlanetPerStar(galaxy):\n",
    "    name, diameter, stars, planets = galaxy # tuple unpacking\n",
    "    return planets/stars\n",
    "print calculatePlanetPerStar(ourGalaxy)"
   ]
  },
  {
   "cell_type": "markdown",
   "metadata": {},
   "source": [
    "We can do indexing and slicing in tuples"
   ]
  },
  {
   "cell_type": "code",
   "execution_count": 97,
   "metadata": {
    "collapsed": false
   },
   "outputs": [
    {
     "name": "stdout",
     "output_type": "stream",
     "text": [
      "number of planet 100\n",
      "(200, 100)\n"
     ]
    }
   ],
   "source": [
    "print('number of planet {}'.format(ourGalaxy[3]))\n",
    "print ourGalaxy[2:]"
   ]
  },
  {
   "cell_type": "markdown",
   "metadata": {},
   "source": [
    "One of the major disadvantage is their readability. What is the third poition of a tuple.\n",
    "Can guess from context, but is hard in general if there are  lot element in tuple.\n",
    "\n",
    "**Name tuple come to rescue in this situation**"
   ]
  },
  {
   "cell_type": "code",
   "execution_count": 6,
   "metadata": {
    "collapsed": false
   },
   "outputs": [
    {
     "name": "stdout",
     "output_type": "stream",
     "text": [
      "bluXX.tif\n"
     ]
    }
   ],
   "source": [
    "from collections import  namedtuple\n",
    "ChannelInfo = namedtuple('ChannelInfo','redChFile, blueChFile, greenChFile')\n",
    "channelInfo = ChannelInfo('redXX.tif', 'bluXX.tif', greenChFile= 'greenXX.png')\n",
    "print channelInfo.blueChFile\n"
   ]
  },
  {
   "cell_type": "markdown",
   "metadata": {},
   "source": [
    "## Dictionaries\n",
    "Dictionaries allows mapping object to other objects i.e they store key valye pair. They are extremly efficient in look up based on key.\n",
    "\n",
    "They are also go to pass variable number of parameters in the functions.\n",
    "\n",
    "**Key:** value used for index\n",
    "\n",
    "**Value** stored value"
   ]
  },
  {
   "cell_type": "markdown",
   "metadata": {},
   "source": [
    "### creating dictionaries\n"
   ]
  },
  {
   "cell_type": "code",
   "execution_count": 3,
   "metadata": {
    "collapsed": false
   },
   "outputs": [
    {
     "name": "stdout",
     "output_type": "stream",
     "text": [
      "{'threshold': 20, 'neighborhoodSize': 4, 'tolerance': 0.002}\n"
     ]
    }
   ],
   "source": [
    "algoConfig = {} # can use nameAgeDic = dict()\n",
    "algoConfig['threshold'] = 20 # in pixel\n",
    "algoConfig['neighborhoodSize'] = 4 # 4X4 neighborhood\n",
    "algoConfig['tolerance'] = 0.002 # convergence tolerance"
   ]
  },
  {
   "cell_type": "code",
   "execution_count": 8,
   "metadata": {
    "collapsed": false
   },
   "outputs": [
    {
     "name": "stdout",
     "output_type": "stream",
     "text": [
      "(30, 70, 80)\n"
     ]
    }
   ],
   "source": [
    "studentScore = {'John': (50, 10, 100), 'sam': (60, 20, 90), 'clark': (30, 70, 80)}\n",
    "print studentScore['clark']"
   ]
  },
  {
   "cell_type": "code",
   "execution_count": 5,
   "metadata": {
    "collapsed": false
   },
   "outputs": [
    {
     "ename": "KeyError",
     "evalue": "'maxLength'",
     "output_type": "error",
     "traceback": [
      "\u001b[1;31m---------------------------------------------------------------------------\u001b[0m",
      "\u001b[1;31mKeyError\u001b[0m                                  Traceback (most recent call last)",
      "\u001b[1;32m<ipython-input-5-060c83e68496>\u001b[0m in \u001b[0;36m<module>\u001b[1;34m()\u001b[0m\n\u001b[1;32m----> 1\u001b[1;33m \u001b[1;32mprint\u001b[0m \u001b[0malgoConfig\u001b[0m\u001b[1;33m[\u001b[0m\u001b[1;34m'maxLength'\u001b[0m\u001b[1;33m]\u001b[0m\u001b[1;33m\u001b[0m\u001b[0m\n\u001b[0m",
      "\u001b[1;31mKeyError\u001b[0m: 'maxLength'"
     ]
    }
   ],
   "source": [
    "print algoConfig['maxLength']"
   ]
  },
  {
   "cell_type": "code",
   "execution_count": 12,
   "metadata": {
    "collapsed": false
   },
   "outputs": [
    {
     "name": "stdout",
     "output_type": "stream",
     "text": [
      "None\n",
      "Value Not Found\n"
     ]
    }
   ],
   "source": [
    "# To avoid KeyError we can use\n",
    "print(algoConfig.get('maxLength'))\n",
    "# or\n",
    "print(algoConfig.get('maxLength', 'Value Not Found'))"
   ]
  },
  {
   "cell_type": "markdown",
   "metadata": {},
   "source": [
    "We can also use setdefault method to set the value if it key is not in the dictionary"
   ]
  },
  {
   "cell_type": "code",
   "execution_count": 19,
   "metadata": {
    "collapsed": false
   },
   "outputs": [
    {
     "name": "stdout",
     "output_type": "stream",
     "text": [
      "20\n",
      "2\n"
     ]
    }
   ],
   "source": [
    "print algoConfig.setdefault('threshold', 0)\n",
    "print algoConfig.setdefault('radius', 2)"
   ]
  },
  {
   "cell_type": "markdown",
   "metadata": {},
   "source": [
    "**Other useful dictionary mathods are keys(),  values() and items()**\n"
   ]
  },
  {
   "cell_type": "code",
   "execution_count": 11,
   "metadata": {
    "collapsed": false
   },
   "outputs": [
    {
     "name": "stdout",
     "output_type": "stream",
     "text": [
      " parameter name is threshold and value is 20\n",
      " parameter name is neighborhoodSize and value is 4\n",
      " parameter name is tolerance and value is 0.002\n"
     ]
    }
   ],
   "source": [
    "for name, value in algoConfig.items():\n",
    "    print(' parameter name is {} and value is {}'.format(name, value))"
   ]
  },
  {
   "cell_type": "markdown",
   "metadata": {},
   "source": [
    "**defaultdict**\n",
    "\n",
    "setdefault is useful when when doesn't exist. This can be monotonous we  have todo every time.\n",
    "\n",
    "let say we wan to count the frequency of number in in a list\n",
    "    "
   ]
  },
  {
   "cell_type": "code",
   "execution_count": 24,
   "metadata": {
    "collapsed": false
   },
   "outputs": [
    {
     "name": "stdout",
     "output_type": "stream",
     "text": [
      "{1: 1, 3: 2, 5: 1, 7: 3}\n"
     ]
    }
   ],
   "source": [
    "# we can do this way\n",
    "observ = [1, 3, 5, 7, 3, 7, 7]\n",
    "def countFreq(observations):\n",
    "    frequencies = {}\n",
    "    for item in observations:\n",
    "        freq = frequencies.setdefault(item, 0)\n",
    "        frequencies[item] = freq + 1\n",
    "    return frequencies    \n",
    "print countFreq(observ)\n"
   ]
  },
  {
   "cell_type": "code",
   "execution_count": 31,
   "metadata": {
    "collapsed": false
   },
   "outputs": [
    {
     "name": "stdout",
     "output_type": "stream",
     "text": [
      "defaultdict(<type 'int'>, {1: 1, 3: 2, 5: 1, 7: 3})\n"
     ]
    }
   ],
   "source": [
    "# or use defaultdict\n",
    "from collections import defaultdict\n",
    "def countFreqDefaultDictUsage(observations):\n",
    "    frequencies = defaultdict(int)\n",
    "    for item in observations:        \n",
    "        frequencies[item] = frequencies[item] + 1\n",
    "    return frequencies    \n",
    "print countFreqDefaultDictUsage(observ)"
   ]
  },
  {
   "cell_type": "markdown",
   "metadata": {},
   "source": [
    "**Can use counter also**"
   ]
  },
  {
   "cell_type": "code",
   "execution_count": 29,
   "metadata": {
    "collapsed": false
   },
   "outputs": [
    {
     "name": "stdout",
     "output_type": "stream",
     "text": [
      "Counter({7: 3, 3: 2, 1: 1, 5: 1})\n"
     ]
    }
   ],
   "source": [
    "from collections import  Counter\n",
    "print Counter(observ)"
   ]
  },
  {
   "cell_type": "markdown",
   "metadata": {},
   "source": [
    "## Sets\n",
    "Set are simiar to mathematical set. They represent collection of unique things.\n",
    " we can check set cardinality, set membership, union, intersection etc."
   ]
  },
  {
   "cell_type": "markdown",
   "metadata": {},
   "source": [
    "### creating and modifying sets"
   ]
  },
  {
   "cell_type": "code",
   "execution_count": null,
   "metadata": {
    "collapsed": true
   },
   "outputs": [],
   "source": []
  },
  {
   "cell_type": "code",
   "execution_count": 69,
   "metadata": {
    "collapsed": false
   },
   "outputs": [
    {
     "name": "stdout",
     "output_type": "stream",
     "text": [
      "set([10, 20, 5])\n",
      "set([10, 20, 5, 15])\n",
      "4\n",
      "True\n"
     ]
    }
   ],
   "source": [
    "nameSet = set()\n",
    "ageSet = set([10, 20, 5])\n",
    "print ageSet\n",
    "ageSet.add(15)\n",
    "print ageSet\n",
    "print len(ageSet) #cardinality of set\n",
    "print 10 in ageSet"
   ]
  },
  {
   "cell_type": "code",
   "execution_count": 70,
   "metadata": {
    "collapsed": false
   },
   "outputs": [
    {
     "name": "stdout",
     "output_type": "stream",
     "text": [
      "set([10, 20])\n"
     ]
    }
   ],
   "source": [
    "ageSet1 = set([20, 10, 70, 30])\n",
    "print ageSet1.intersection(ageSet)\n"
   ]
  },
  {
   "cell_type": "markdown",
   "metadata": {},
   "source": [
    "**Excercise: Supose we have following list of tuples (instructor name, course taught) **\n",
    "** What are the different course taught in the department? **"
   ]
  },
  {
   "cell_type": "code",
   "execution_count": 74,
   "metadata": {
    "collapsed": true
   },
   "outputs": [],
   "source": [
    "instructorCourseLibrary = [('Dr. Blecher', 'Functional Analysis'), ('Dr. Azencott','statistics') ,\n",
    "                           ('Dr. Demetrio', 'Functional Analysis') ,('Dr. Fuo ', 'statistics' ) ,\n",
    "                           ('Dr. Pan', 'calculus 3')]\n"
   ]
  },
  {
   "cell_type": "code",
   "execution_count": 75,
   "metadata": {
    "collapsed": false
   },
   "outputs": [
    {
     "name": "stdout",
     "output_type": "stream",
     "text": [
      "set(['Functional Analysis', 'calculus 3', 'statistics'])\n"
     ]
    }
   ],
   "source": [
    "courses =  set()\n",
    "\n",
    "for inst, cour in instructorCourseLibrary:\n",
    "    courses.add(cour)\n",
    "    \n",
    "print courses    \n"
   ]
  }
 ],
 "metadata": {
  "kernelspec": {
   "display_name": "Python 2",
   "language": "python",
   "name": "python2"
  },
  "language_info": {
   "codemirror_mode": {
    "name": "ipython",
    "version": 2
   },
   "file_extension": ".py",
   "mimetype": "text/x-python",
   "name": "python",
   "nbconvert_exporter": "python",
   "pygments_lexer": "ipython2",
   "version": "2.7.6"
  }
 },
 "nbformat": 4,
 "nbformat_minor": 0
}
