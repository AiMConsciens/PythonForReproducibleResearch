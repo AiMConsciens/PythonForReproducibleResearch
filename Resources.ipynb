{
 "cells": [
  {
   "cell_type": "markdown",
   "metadata": {
    "slideshow": {
     "slide_type": "slide"
    }
   },
   "source": [
    "\n",
    "# Books\n",
    " * Python 3 Object Oriented Programming -- Dusty Phillips\n",
    " * The Python Standard Library by Example -- Doug Hellmann. Check out this blog at\n",
    " \n",
    "                    https://pymotw.com/2/index.html\n",
    "                    \n",
    " * Dive Into Python is a free Python book for experienced programmers\n",
    "                  http://www.diveintopython.net/                    \n",
    "     \n",
    "\n",
    "\n",
    "\n"
   ]
  },
  {
   "cell_type": "markdown",
   "metadata": {},
   "source": [
    "# Python Tutiorial\n",
    "* https://www.youtube.com/watch?v=tKTZoB2Vjuk Google Python Class "
   ]
  },
  {
   "cell_type": "markdown",
   "metadata": {
    "slideshow": {
     "slide_type": "-"
    }
   },
   "source": [
    "# Some more Pointers\n",
    "* scikit-learn Machine Learning in Python http://scikit-learn.org/stable/\n",
    "* pandas Python Data Analysis Library http://pandas.pydata.org/\n",
    "* SciPy  http://www.scipy.org/ . This is Python-based ecosystem of open-source software for mathematics, science, and engineering. Some of the core modules are numpy, scipy, pandas,\n",
    "ipython, sympy\n",
    "    - Scipy Lecture Notes. One document to learn numerics, science, and data with Python.\n",
    "     http://www.scipy-lectures.org/\n",
    "     \n",
    "* Also check annual Scientific Computing with Python conference lectures. \n",
    "  https://www.youtube.com/playlist?list=PLYx7XA2nY5Gcpabmu61kKcToLz0FapmHu\n",
    "* Kivy  Open source Python library for rapid development of applications\n",
    "that make use of innovative user interfaces, such as multi-touch apps.\n",
    "* Pygame Pygame is a cross-platform set of Python modules designed for writing video games.\n",
    " http://www.pygame.org/hifi.html\n",
    "* Django makes it easier to build better Web apps more quickly and with less code. https://www.djangoproject.com/\n",
    "* Arduino and Python. https://www.arduino.cc/ and http://playground.arduino.cc/Interfacing/Python\n",
    "* Giving presentations with IPython notebook http://neuroscience.telenczuk.pl/?p=607"
   ]
  },
  {
   "cell_type": "markdown",
   "metadata": {
    "slideshow": {
     "slide_type": "slide"
    }
   },
   "source": [
    "<center> <font size=\"25\"> Thank you. </font> </center>"
   ]
  }
 ],
 "metadata": {
  "kernelspec": {
   "display_name": "Python 2",
   "language": "python",
   "name": "python2"
  },
  "language_info": {
   "codemirror_mode": {
    "name": "ipython",
    "version": 2
   },
   "file_extension": ".py",
   "mimetype": "text/x-python",
   "name": "python",
   "nbconvert_exporter": "python",
   "pygments_lexer": "ipython2",
   "version": "2.7.6"
  }
 },
 "nbformat": 4,
 "nbformat_minor": 0
}
