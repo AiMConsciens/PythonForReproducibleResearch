{
 "cells": [
  {
   "cell_type": "markdown",
   "metadata": {},
   "source": [
    "# Python for reproducile research"
   ]
  },
  {
   "cell_type": "markdown",
   "metadata": {
    "collapsed": true
   },
   "source": [
    "* Basic Python Syntax\n",
    "* Python with battery included (standard library)\n",
    " - numpy, scipy, matplotlib  etc.. for scientic computation\n",
    "* Python Data Structure\n",
    " - list , set, tuple, named tuple, dictionary\n",
    "* Advanced Python concepts\n",
    " - filter, reduce, map, itertool, generator\n",
    "* More pointer"
   ]
  },
  {
   "cell_type": "markdown",
   "metadata": {},
   "source": [
    "## Basic python syntax\n",
    " * Basic data type\n",
    " * Operator and basic flow control"
   ]
  },
  {
   "cell_type": "markdown",
   "metadata": {},
   "source": [
    "### Basic data type"
   ]
  },
  {
   "cell_type": "markdown",
   "metadata": {},
   "source": [
    "Python supports Boolean, integer, float ,string , list and many other data types."
   ]
  },
  {
   "cell_type": "code",
   "execution_count": null,
   "metadata": {
    "collapsed": false
   },
   "outputs": [],
   "source": [
    "a = 14\n"
   ]
  },
  {
   "cell_type": "code",
   "execution_count": null,
   "metadata": {
    "collapsed": false
   },
   "outputs": [],
   "source": [
    "print type(a)\n",
    "print a"
   ]
  },
  {
   "cell_type": "code",
   "execution_count": null,
   "metadata": {
    "collapsed": false
   },
   "outputs": [],
   "source": [
    "name = 'math'\n",
    "type(name)"
   ]
  },
  {
   "cell_type": "code",
   "execution_count": null,
   "metadata": {
    "collapsed": false
   },
   "outputs": [],
   "source": [
    "pi = 3.1415\n",
    "type(pi)"
   ]
  },
  {
   "cell_type": "code",
   "execution_count": null,
   "metadata": {
    "collapsed": false
   },
   "outputs": [],
   "source": [
    "isRaining = True\n",
    "print isRaining\n",
    "type(isRaining)"
   ]
  },
  {
   "cell_type": "code",
   "execution_count": null,
   "metadata": {
    "collapsed": false
   },
   "outputs": [],
   "source": [
    "myList = [1 ,20 , 31, 'analysis' ]\n",
    "print myList\n",
    "type(myList)"
   ]
  },
  {
   "cell_type": "markdown",
   "metadata": {},
   "source": [
    "**We can access the item in list by indexing. Note sequence index in python start at 0 . Be careful when switching from MATLAB**"
   ]
  },
  {
   "cell_type": "code",
   "execution_count": null,
   "metadata": {
    "collapsed": false
   },
   "outputs": [],
   "source": [
    "print myList[0]\n",
    "print myList[3]"
   ]
  },
  {
   "cell_type": "markdown",
   "metadata": {},
   "source": [
    "**To find number of element in list use len function**"
   ]
  },
  {
   "cell_type": "code",
   "execution_count": null,
   "metadata": {
    "collapsed": false
   },
   "outputs": [],
   "source": [
    "print len(myList)"
   ]
  },
  {
   "cell_type": "markdown",
   "metadata": {},
   "source": [
    "### Basic operators, flow control and block of code\n",
    "* comparision operator\n",
    "* if, elif , for, while"
   ]
  },
  {
   "cell_type": "markdown",
   "metadata": {},
   "source": [
    "** Notice that we are already using  = operator **\n",
    "\n",
    "** Comparision operators are **\n",
    "== (equal to), != (not equal to), < (less than), > (greater than), <=(less than or equal to), >= (gretaer than and equal to)\n",
    "Depending on  values provided these oprator evaluates to **True** or **False**"
   ]
  },
  {
   "cell_type": "code",
   "execution_count": null,
   "metadata": {
    "collapsed": false
   },
   "outputs": [],
   "source": [
    "a =2\n",
    "b = 4\n",
    "a == b"
   ]
  },
  {
   "cell_type": "markdown",
   "metadata": {},
   "source": [
    "** Boolean operators **  *and* , *or*, not"
   ]
  },
  {
   "cell_type": "code",
   "execution_count": null,
   "metadata": {
    "collapsed": false
   },
   "outputs": [],
   "source": [
    "True and True\n"
   ]
  },
  {
   "cell_type": "markdown",
   "metadata": {},
   "source": [
    "** Mixing boolean and comaprision operator **"
   ]
  },
  {
   "cell_type": "code",
   "execution_count": null,
   "metadata": {
    "collapsed": false
   },
   "outputs": [],
   "source": [
    "a = 2\n",
    "b = 3\n",
    "c = 5\n",
    "a < b and  b < c"
   ]
  },
  {
   "cell_type": "markdown",
   "metadata": {},
   "source": [
    "Python evaluates any math and comparison operators then *not* operators,  *and* operators and *or* operators."
   ]
  },
  {
   "cell_type": "code",
   "execution_count": null,
   "metadata": {
    "collapsed": false
   },
   "outputs": [],
   "source": [
    "8 + a < b and b < c"
   ]
  },
  {
   "cell_type": "markdown",
   "metadata": {},
   "source": [
    "### Flow control and block of code\n",
    "flow control changes the excecution order of the program. Any flow control structure starts with a condition.\n",
    " A condition evaluates to True or False\n",
    " \n",
    " **block of code** A code block is a piece of Python program text that can be executed as a unit, such as a module, a class definition or a function body.\n",
    " [https://docs.python.org/2.0/ref/execframes.html]\n",
    " \n",
    " "
   ]
  },
  {
   "cell_type": "markdown",
   "metadata": {},
   "source": [
    "** if, elif and else, while , break and continue  **\n"
   ]
  },
  {
   "cell_type": "code",
   "execution_count": null,
   "metadata": {
    "collapsed": false
   },
   "outputs": [],
   "source": [
    "a = 1\n",
    "b = .5\n",
    "c = 8\n",
    "if a == 2:\n",
    "    print(' In a == 2 part')\n",
    "elif b < 1 and c < 11:\n",
    "    print('In b < 1 part')\n",
    "else:\n",
    "    print('otherwise')\n",
    "    "
   ]
  },
  {
   "cell_type": "markdown",
   "metadata": {},
   "source": [
    "**While loop**"
   ]
  },
  {
   "cell_type": "code",
   "execution_count": null,
   "metadata": {
    "collapsed": false
   },
   "outputs": [],
   "source": [
    "i = 1\n",
    "while i< 5:\n",
    "    print('{}'.format(i))\n",
    "    i = i + 1"
   ]
  },
  {
   "cell_type": "markdown",
   "metadata": {},
   "source": [
    "**break statement**"
   ]
  },
  {
   "cell_type": "code",
   "execution_count": null,
   "metadata": {
    "collapsed": false
   },
   "outputs": [],
   "source": [
    "while True:\n",
    "    print('Enter floor number')\n",
    "    i = input()\n",
    "    if i == 6:\n",
    "        break"
   ]
  },
  {
   "cell_type": "markdown",
   "metadata": {},
   "source": [
    "**continue statement**\n",
    "\n",
    "Like break this is used inside a loop and whenever program hits continue statment exceution jumps back to start of the loop and re evalutes the condition"
   ]
  },
  {
   "cell_type": "code",
   "execution_count": null,
   "metadata": {
    "collapsed": false
   },
   "outputs": [],
   "source": [
    "totalOdd = 0\n",
    "i = 0\n",
    "while i < 10:\n",
    "    i = i + 1\n",
    "    if i % 2 == 0:\n",
    "        continue        \n",
    "    totalOdd = totalOdd + 1\n",
    "print('Total odd number less than {} are {}'.format(10, totalOdd))\n",
    "    \n",
    "    \n",
    "    "
   ]
  },
  {
   "cell_type": "markdown",
   "metadata": {},
   "source": [
    "** for loop and range **\n",
    "if we want  execute a block of code for centain number of time then for loops is a more concise construct"
   ]
  },
  {
   "cell_type": "code",
   "execution_count": null,
   "metadata": {
    "collapsed": false
   },
   "outputs": [],
   "source": [
    "primeList = [2, 3, 5, 7, 11]\n",
    "for number in primeList:\n",
    "    print number\n",
    "    print number**number"
   ]
  },
  {
   "cell_type": "code",
   "execution_count": null,
   "metadata": {
    "collapsed": false
   },
   "outputs": [],
   "source": [
    "start= 1\n",
    "end = 10\n",
    "step = 2\n",
    "range(start, end, step)"
   ]
  },
  {
   "cell_type": "code",
   "execution_count": null,
   "metadata": {
    "collapsed": false
   },
   "outputs": [],
   "source": [
    "start= 1\n",
    "end = 10\n",
    "step = 2\n",
    "xrange(start, end, step)"
   ]
  },
  {
   "cell_type": "markdown",
   "metadata": {},
   "source": [
    "xrange creates a sequence generating object that evaluates lazily.\n",
    "Note In python3 range  works like xrange from Python2.7"
   ]
  },
  {
   "cell_type": "code",
   "execution_count": null,
   "metadata": {
    "collapsed": false
   },
   "outputs": [],
   "source": [
    "%timeit  [ i for i in range(1, 10000)]\n",
    "%timeit [ i for i in xrange(1, 10000)]"
   ]
  },
  {
   "cell_type": "code",
   "execution_count": null,
   "metadata": {
    "collapsed": false
   },
   "outputs": [],
   "source": [
    "for item in range(1, 5, 1):\n",
    "    print('loop number {}'.format(item))\n",
    "    print('item {} item*item {}'.format(item, item*item))\n",
    "    "
   ]
  },
  {
   "cell_type": "markdown",
   "metadata": {},
   "source": [
    "**iterating over objects in list**"
   ]
  },
  {
   "cell_type": "markdown",
   "metadata": {},
   "source": [
    "Let's  get started with building some confidence\n",
    "\n",
    "**excercise1: create a list of 5 even number starting from 2 and print them using for loop**\n"
   ]
  },
  {
   "cell_type": "code",
   "execution_count": null,
   "metadata": {
    "collapsed": true
   },
   "outputs": [],
   "source": []
  },
  {
   "cell_type": "markdown",
   "metadata": {},
   "source": [
    "**excercise2: calculate the dot product using for loop for following two list.**\n",
    "\n",
    "**Replace ? with proper syntax or function**"
   ]
  },
  {
   "cell_type": "code",
   "execution_count": null,
   "metadata": {
    "collapsed": false
   },
   "outputs": [],
   "source": [
    "a = [1 , 2, 3]\n",
    "b = [4, 5, 1]\n",
    "dotProduct = 0\n",
    "for i in xrange(0, ? )?\n",
    "    dotProduct = dotProduct + ?\n",
    "print dotProduct    "
   ]
  },
  {
   "cell_type": "markdown",
   "metadata": {},
   "source": [
    "## Writng python function and documentation string\n",
    "Function is a resuable block of code. It gives more modularity to our program."
   ]
  },
  {
   "cell_type": "code",
   "execution_count": null,
   "metadata": {
    "collapsed": false
   },
   "outputs": [],
   "source": [
    "def calculatePthPowerSum(seq, p):\n",
    "    ''' This function  sums up pth power of element in the list seq\n",
    "    INPUT: seq is a list of number\n",
    "           p is the power to apply  \n",
    "    RETURN: sum of pth power       \n",
    "    '''\n",
    "    sum =  0\n",
    "    for element in seq:\n",
    "        sum = sum + element**p\n",
    "    return sum\n",
    "\n",
    "testList = [1, 3 ,5]\n",
    "print calculatePthPowerSum(testList, 2)\n",
    "print calculatePthPowerSum([1 ,2 ], 2)        "
   ]
  },
  {
   "cell_type": "code",
   "execution_count": null,
   "metadata": {
    "collapsed": false
   },
   "outputs": [],
   "source": [
    "help(calculatePthPowerSum)"
   ]
  },
  {
   "cell_type": "code",
   "execution_count": null,
   "metadata": {
    "collapsed": false
   },
   "outputs": [],
   "source": [
    "print calculatePthPowerSum.__doc__"
   ]
  },
  {
   "cell_type": "code",
   "execution_count": null,
   "metadata": {
    "collapsed": false
   },
   "outputs": [],
   "source": [
    "dir(calculatePthPowerSum)"
   ]
  },
  {
   "cell_type": "markdown",
   "metadata": {},
   "source": [
    "As shown above we need to use keyword *def* followed by function name *(calculatePthPowerSum)*, parameter list *(seq, p)*, and a \":\" symbol.\n",
    "Function body should be indented after this symbol. Value calculated in the function\n",
    "is returned by using *return* keyword."
   ]
  },
  {
   "cell_type": "markdown",
   "metadata": {},
   "source": [
    "** Default Argument  values**\n",
    "\n",
    "We can also specify default values for one or more arguments"
   ]
  },
  {
   "cell_type": "code",
   "execution_count": null,
   "metadata": {
    "collapsed": false
   },
   "outputs": [],
   "source": [
    "def makeTea(water, sugar = 1, milk = 1):\n",
    "    print('Tea composition: water = {} Sugar = {} and Milk = {}'.format(water, sugar, milk))\n",
    "    \n",
    "makeTea(10)\n",
    "makeTea(20, milk = 2, sugar= 3)"
   ]
  },
  {
   "cell_type": "markdown",
   "metadata": {},
   "source": [
    "We will go over Arbitrary argument list once we have covered python data structure tuple and dictionary\n",
    "\n",
    "https://docs.python.org/2/tutorial/controlflow.html"
   ]
  },
  {
   "cell_type": "markdown",
   "metadata": {},
   "source": [
    "**Excercise write a function to add two vectors given a list**"
   ]
  },
  {
   "cell_type": "code",
   "execution_count": null,
   "metadata": {
    "collapsed": false
   },
   "outputs": [],
   "source": [
    "# Hint: look at the code for adding list before Python function section\n",
    "def addList(vec1, vec2):\n",
    "    "
   ]
  },
  {
   "cell_type": "markdown",
   "metadata": {},
   "source": [
    "## Python with battery included (standard library)"
   ]
  },
  {
   "cell_type": "markdown",
   "metadata": {},
   "source": [
    "Python comes some built in function like print, len etc and a set of modules called standard library.\n",
    "A module if set of related python function like math, random, numpy, scipy, matplotlib etc.\n",
    "To use a module you has to first import it using one of following syntax.\n",
    "\n",
    "https://docs.python.org/2/library/\n",
    "\n",
    "https://docs.python.org/3/library/"
   ]
  },
  {
   "cell_type": "code",
   "execution_count": null,
   "metadata": {
    "collapsed": false
   },
   "outputs": [],
   "source": [
    "import math\n",
    "math.sin(math.pi/2)\n"
   ]
  },
  {
   "cell_type": "markdown",
   "metadata": {},
   "source": [
    "or "
   ]
  },
  {
   "cell_type": "code",
   "execution_count": null,
   "metadata": {
    "collapsed": false
   },
   "outputs": [],
   "source": [
    "import math as mt\n",
    "mt.sin(mt.pi/2)"
   ]
  },
  {
   "cell_type": "markdown",
   "metadata": {},
   "source": [
    "or "
   ]
  },
  {
   "cell_type": "code",
   "execution_count": null,
   "metadata": {
    "collapsed": false
   },
   "outputs": [],
   "source": [
    "from math import sin, pi\n",
    "\n",
    "sin(pi/2)"
   ]
  },
  {
   "cell_type": "code",
   "execution_count": null,
   "metadata": {
    "collapsed": false
   },
   "outputs": [],
   "source": [
    "import numpy \n",
    "\n",
    "x = numpy.array([[1, 4 ,8],[ 3 , 4, 6]])\n",
    "print x"
   ]
  },
  {
   "cell_type": "code",
   "execution_count": null,
   "metadata": {
    "collapsed": false
   },
   "outputs": [],
   "source": [
    "import numpy as np\n",
    "\n",
    "x = np.array([[1, 4 ,8],[ 3 , 4, 6]])\n",
    "print x\n",
    "                         "
   ]
  },
  {
   "cell_type": "code",
   "execution_count": null,
   "metadata": {
    "collapsed": false
   },
   "outputs": [],
   "source": [
    "%matplotlib inline\n",
    "import numpy as np\n",
    "import matplotlib.pyplot as plt\n",
    "x = np.linspace(0, 10)\n",
    "line, = plt.plot(x, np.sin(x), '--', linewidth=2)\n",
    "plt.show()"
   ]
  },
  {
   "cell_type": "markdown",
   "metadata": {},
   "source": [
    "**reference **\n",
    "* https://automatetheboringstuff.com/"
   ]
  }
 ],
 "metadata": {
  "kernelspec": {
   "display_name": "Python 2",
   "language": "python",
   "name": "python2"
  },
  "language_info": {
   "codemirror_mode": {
    "name": "ipython",
    "version": 2
   },
   "file_extension": ".py",
   "mimetype": "text/x-python",
   "name": "python",
   "nbconvert_exporter": "python",
   "pygments_lexer": "ipython2",
   "version": "2.7.6"
  }
 },
 "nbformat": 4,
 "nbformat_minor": 0
}
